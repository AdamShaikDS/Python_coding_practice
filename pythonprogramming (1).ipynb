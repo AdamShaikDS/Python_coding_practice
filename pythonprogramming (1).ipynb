{
  "nbformat": 4,
  "nbformat_minor": 0,
  "metadata": {
    "colab": {
      "provenance": []
    },
    "kernelspec": {
      "name": "python3",
      "display_name": "Python 3"
    },
    "language_info": {
      "name": "python"
    }
  },
  "cells": [
    {
      "cell_type": "code",
      "execution_count": 1,
      "metadata": {
        "id": "WwjB8NzB28TL"
      },
      "outputs": [],
      "source": [
        "#programme to calculate area of the circule"
      ]
    },
    {
      "cell_type": "code",
      "source": [
        "def areacricle(r,pie = 3.14):\n",
        "  area = pie * r * r\n",
        "  return area\n",
        "\n"
      ],
      "metadata": {
        "id": "7VsDYnMZ3HbS"
      },
      "execution_count": 2,
      "outputs": []
    },
    {
      "cell_type": "code",
      "source": [
        "radius = int(input(\"enter the radius\"))"
      ],
      "metadata": {
        "colab": {
          "base_uri": "https://localhost:8080/"
        },
        "id": "mln95-7i3tn7",
        "outputId": "5a4031e2-b5d6-4b19-be89-be124810b749"
      },
      "execution_count": 5,
      "outputs": [
        {
          "name": "stdout",
          "output_type": "stream",
          "text": [
            "enter the radius10\n"
          ]
        }
      ]
    },
    {
      "cell_type": "code",
      "source": [
        "area = areacricle(r = radius)#\n",
        "print(area)"
      ],
      "metadata": {
        "colab": {
          "base_uri": "https://localhost:8080/"
        },
        "id": "RWe3eFAs3Y-E",
        "outputId": "dc12a1a4-a197-4da5-c725-b7635324a40c"
      },
      "execution_count": 6,
      "outputs": [
        {
          "output_type": "stream",
          "name": "stdout",
          "text": [
            "314.0\n"
          ]
        }
      ]
    },
    {
      "cell_type": "code",
      "source": [
        "#write a programme to return largest len of the string given n number of string"
      ],
      "metadata": {
        "id": "1ZmTG2sY4Q7r"
      },
      "execution_count": null,
      "outputs": []
    },
    {
      "cell_type": "code",
      "source": [
        "def find_largest(*a):\n",
        "  print(type(a))\n",
        "  List_len = []\n",
        "  for i in a:\n",
        "\n",
        "    List_len.append(len(i))\n",
        "\n",
        "  return max(List_len)"
      ],
      "metadata": {
        "id": "gd75GIUy4jNJ"
      },
      "execution_count": 9,
      "outputs": []
    },
    {
      "cell_type": "code",
      "source": [
        "find_largest(\"ad\",\"adams\")"
      ],
      "metadata": {
        "colab": {
          "base_uri": "https://localhost:8080/"
        },
        "id": "T4VAm22Z5T58",
        "outputId": "fa7a51a2-7b0f-4d67-88b9-d97e528a0225"
      },
      "execution_count": 12,
      "outputs": [
        {
          "output_type": "stream",
          "name": "stdout",
          "text": [
            "<class 'tuple'>\n"
          ]
        },
        {
          "output_type": "execute_result",
          "data": {
            "text/plain": [
              "5"
            ]
          },
          "metadata": {},
          "execution_count": 12
        }
      ]
    }
  ]
}