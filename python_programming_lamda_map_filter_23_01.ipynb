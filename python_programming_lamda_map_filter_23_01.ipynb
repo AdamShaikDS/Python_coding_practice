{
  "nbformat": 4,
  "nbformat_minor": 0,
  "metadata": {
    "colab": {
      "provenance": []
    },
    "kernelspec": {
      "name": "python3",
      "display_name": "Python 3"
    },
    "language_info": {
      "name": "python"
    }
  },
  "cells": [
    {
      "cell_type": "code",
      "execution_count": null,
      "metadata": {
        "id": "omRbw2B9SOls"
      },
      "outputs": [],
      "source": [
        "#lambda function python"
      ]
    },
    {
      "cell_type": "code",
      "source": [
        "a = int(input(\"enter a number\"))"
      ],
      "metadata": {
        "colab": {
          "base_uri": "https://localhost:8080/"
        },
        "id": "94JVzLB0Sl3m",
        "outputId": "4a96e109-ea37-4f01-9c05-f1532f4a14e6"
      },
      "execution_count": 1,
      "outputs": [
        {
          "name": "stdout",
          "output_type": "stream",
          "text": [
            "enter a number10\n"
          ]
        }
      ]
    },
    {
      "cell_type": "code",
      "source": [
        "b = int(input(\"eter a number\"))"
      ],
      "metadata": {
        "colab": {
          "base_uri": "https://localhost:8080/"
        },
        "id": "vOn1AGGkS4zL",
        "outputId": "8f828b9f-cc51-4a59-a3b0-e8b14890a46a"
      },
      "execution_count": 2,
      "outputs": [
        {
          "name": "stdout",
          "output_type": "stream",
          "text": [
            "eter a number12\n"
          ]
        }
      ]
    },
    {
      "cell_type": "markdown",
      "source": [],
      "metadata": {
        "id": "dZvZ3Cl9SgeW"
      }
    },
    {
      "cell_type": "code",
      "source": [
        "lamdafunction = lambda a,b:a+b"
      ],
      "metadata": {
        "id": "dG82p7dLTIgU"
      },
      "execution_count": 3,
      "outputs": []
    },
    {
      "cell_type": "code",
      "source": [
        "lamdafunction(a,b)"
      ],
      "metadata": {
        "colab": {
          "base_uri": "https://localhost:8080/"
        },
        "id": "U2IbDgRQTbv5",
        "outputId": "cea922d2-e4e4-427d-c719-d6bd57de05b4"
      },
      "execution_count": 4,
      "outputs": [
        {
          "output_type": "execute_result",
          "data": {
            "text/plain": [
              "22"
            ]
          },
          "metadata": {},
          "execution_count": 4
        }
      ]
    },
    {
      "cell_type": "code",
      "source": [],
      "metadata": {
        "id": "eLsju2jcUW1H"
      },
      "execution_count": null,
      "outputs": []
    },
    {
      "cell_type": "code",
      "source": [
        "#write a progrmme to written first character  of a string which a has passed to it"
      ],
      "metadata": {
        "id": "bENl__-yUR5k"
      },
      "execution_count": null,
      "outputs": []
    },
    {
      "cell_type": "code",
      "source": [
        "a = input('enter the string')"
      ],
      "metadata": {
        "colab": {
          "base_uri": "https://localhost:8080/"
        },
        "id": "62E9kAMMUhGD",
        "outputId": "28886dee-8750-4910-f89b-41582ddffd4f"
      },
      "execution_count": 5,
      "outputs": [
        {
          "name": "stdout",
          "output_type": "stream",
          "text": [
            "enter the stringadam\n"
          ]
        }
      ]
    },
    {
      "cell_type": "code",
      "source": [
        "firstword = lambda a:a[0]"
      ],
      "metadata": {
        "id": "shhDEhMJUopz"
      },
      "execution_count": 6,
      "outputs": []
    },
    {
      "cell_type": "code",
      "source": [
        "firstword(a)"
      ],
      "metadata": {
        "colab": {
          "base_uri": "https://localhost:8080/",
          "height": 35
        },
        "id": "0NJHl2i5U1cy",
        "outputId": "a044461c-e3b8-466c-f055-41b9147e8cc8"
      },
      "execution_count": 7,
      "outputs": [
        {
          "output_type": "execute_result",
          "data": {
            "text/plain": [
              "'a'"
            ],
            "application/vnd.google.colaboratory.intrinsic+json": {
              "type": "string"
            }
          },
          "metadata": {},
          "execution_count": 7
        }
      ]
    },
    {
      "cell_type": "code",
      "source": [
        "#write a lamda function which retuns true or false"
      ],
      "metadata": {
        "id": "kCTdoRzCVZJU"
      },
      "execution_count": null,
      "outputs": []
    },
    {
      "cell_type": "code",
      "source": [
        "iseven = lambda a : a%2 == 0 "
      ],
      "metadata": {
        "id": "p3cvvr3tVkfB"
      },
      "execution_count": 8,
      "outputs": []
    },
    {
      "cell_type": "code",
      "source": [],
      "metadata": {
        "id": "dsNTAP4zW-gB"
      },
      "execution_count": null,
      "outputs": []
    },
    {
      "cell_type": "code",
      "source": [
        "iseven(11)"
      ],
      "metadata": {
        "colab": {
          "base_uri": "https://localhost:8080/"
        },
        "id": "iqfb_VIcWfqH",
        "outputId": "f0b06ea9-025c-4dd9-e9db-bae6b244de7c"
      },
      "execution_count": 10,
      "outputs": [
        {
          "output_type": "execute_result",
          "data": {
            "text/plain": [
              "False"
            ]
          },
          "metadata": {},
          "execution_count": 10
        }
      ]
    },
    {
      "cell_type": "code",
      "source": [
        "#write  a lamda function to give gratest among 2 integers"
      ],
      "metadata": {
        "id": "tY7u3N44XEsq"
      },
      "execution_count": 11,
      "outputs": []
    },
    {
      "cell_type": "code",
      "source": [
        "x,y = 11,12"
      ],
      "metadata": {
        "id": "yvjCrPegXNwz"
      },
      "execution_count": 16,
      "outputs": []
    },
    {
      "cell_type": "code",
      "source": [
        "greatestnumber = lambda x,y:x if x>y else y"
      ],
      "metadata": {
        "id": "1t5_zsatXTLT"
      },
      "execution_count": 13,
      "outputs": []
    },
    {
      "cell_type": "code",
      "source": [
        "greatestnumber(x,y)"
      ],
      "metadata": {
        "colab": {
          "base_uri": "https://localhost:8080/"
        },
        "id": "y7R0IyoWXqvu",
        "outputId": "d8e3ff7d-a978-4dc6-cf04-8d2c62a4d937"
      },
      "execution_count": 17,
      "outputs": [
        {
          "output_type": "execute_result",
          "data": {
            "text/plain": [
              "12"
            ]
          },
          "metadata": {},
          "execution_count": 17
        }
      ]
    },
    {
      "cell_type": "code",
      "source": [
        "# Write a function called inspect( ) that accepts a string as argument and returns the word EVEN if the string is of even length and returns it’s first character if the string is of odd length\n",
        "\n",
        "# Now call this function for first 3 month names\n"
      ],
      "metadata": {
        "id": "5cdfS2qnZlEm"
      },
      "execution_count": null,
      "outputs": []
    },
    {
      "cell_type": "code",
      "source": [
        "def inspect(a):\n",
        "  if len(a)%2 == 0:\n",
        "    return 'even'\n",
        "  else:\n",
        "    return a[0]"
      ],
      "metadata": {
        "id": "0PeqCE5QZoTc"
      },
      "execution_count": 28,
      "outputs": []
    },
    {
      "cell_type": "code",
      "source": [
        "months = ['januarya','february','March']"
      ],
      "metadata": {
        "id": "MmOYrtbBaKmU"
      },
      "execution_count": 29,
      "outputs": []
    },
    {
      "cell_type": "code",
      "source": [
        "list(map(inspect,months))"
      ],
      "metadata": {
        "colab": {
          "base_uri": "https://localhost:8080/"
        },
        "id": "s28EqvHiaZQN",
        "outputId": "555ea311-2238-4042-8113-e30bf29406cf"
      },
      "execution_count": 30,
      "outputs": [
        {
          "output_type": "execute_result",
          "data": {
            "text/plain": [
              "['even', 'even', 'M']"
            ]
          },
          "metadata": {},
          "execution_count": 30
        }
      ]
    },
    {
      "cell_type": "code",
      "source": [
        "# Write a lambda expression that accepts a string as argument and returns it’s first character\n",
        "# Now use this lambda expression in map( ) function to work on for first 3 month names"
      ],
      "metadata": {
        "id": "pIga1MsXctKr"
      },
      "execution_count": 53,
      "outputs": []
    },
    {
      "cell_type": "code",
      "source": [
        "list(map(firstword,months))"
      ],
      "metadata": {
        "colab": {
          "base_uri": "https://localhost:8080/"
        },
        "id": "ULB3Q2a8cvN8",
        "outputId": "fcc033d2-93df-4f3b-ceab-09352a0961e6"
      },
      "execution_count": 31,
      "outputs": [
        {
          "output_type": "execute_result",
          "data": {
            "text/plain": [
              "['j', 'f', 'M']"
            ]
          },
          "metadata": {},
          "execution_count": 31
        }
      ]
    },
    {
      "cell_type": "code",
      "source": [
        "# Write a lambda expression that accepts a character as argument and returns True if it is a vowel otherwise False\n",
        "# Now ask the user to input his/her name and display only the vowels in the name . In case the name does not contain any vowel display the message No vowels in your name"
      ],
      "metadata": {
        "id": "Xww3pRvTdh7F"
      },
      "execution_count": 52,
      "outputs": []
    },
    {
      "cell_type": "code",
      "source": [
        "vowels = ['a','e','i','o','u']"
      ],
      "metadata": {
        "id": "McS19hBid1iE"
      },
      "execution_count": 32,
      "outputs": []
    },
    {
      "cell_type": "code",
      "source": [
        "isvowel = lambda x : x if x in vowels else 'false'"
      ],
      "metadata": {
        "id": "KK0BoZE8dmBE"
      },
      "execution_count": 34,
      "outputs": []
    },
    {
      "cell_type": "code",
      "source": [
        "name = list(input('enter name'))"
      ],
      "metadata": {
        "colab": {
          "base_uri": "https://localhost:8080/"
        },
        "id": "fFrNv0UhfIa_",
        "outputId": "82e0f10a-c910-4136-e00a-4b78d477ec2e"
      },
      "execution_count": 35,
      "outputs": [
        {
          "name": "stdout",
          "output_type": "stream",
          "text": [
            "enter nameadam\n"
          ]
        }
      ]
    },
    {
      "cell_type": "code",
      "source": [
        "nametrue = list(map(isvowel,name))"
      ],
      "metadata": {
        "id": "GjBTTLhFfUsl"
      },
      "execution_count": 36,
      "outputs": []
    },
    {
      "cell_type": "code",
      "source": [
        "print(nametrue)"
      ],
      "metadata": {
        "colab": {
          "base_uri": "https://localhost:8080/"
        },
        "id": "a1dhvsoRhG5o",
        "outputId": "2f18d226-a281-4364-d047-44eb88398a1c"
      },
      "execution_count": 47,
      "outputs": [
        {
          "output_type": "stream",
          "name": "stdout",
          "text": [
            "[True, False, True, False]\n"
          ]
        }
      ]
    },
    {
      "cell_type": "code",
      "source": [
        "[name[i] for i in range(0,len(nametrue)-1)  if nametrue[i]]"
      ],
      "metadata": {
        "colab": {
          "base_uri": "https://localhost:8080/"
        },
        "id": "JBLh9WI-gCWy",
        "outputId": "3a1723ee-b8fd-4a36-a2e1-2fab886f6b0e"
      },
      "execution_count": 51,
      "outputs": [
        {
          "output_type": "execute_result",
          "data": {
            "text/plain": [
              "['a', 'a']"
            ]
          },
          "metadata": {},
          "execution_count": 51
        }
      ]
    }
  ]
}