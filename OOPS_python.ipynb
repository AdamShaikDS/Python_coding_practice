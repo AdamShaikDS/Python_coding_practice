{
  "nbformat": 4,
  "nbformat_minor": 0,
  "metadata": {
    "colab": {
      "provenance": []
    },
    "kernelspec": {
      "name": "python3",
      "display_name": "Python 3"
    },
    "language_info": {
      "name": "python"
    }
  },
  "cells": [
    {
      "cell_type": "markdown",
      "source": [
        "\n",
        "Write a program to create a class called Circle , having an instance member called radius. Provide following instance methods in your class:\n",
        "__init___() : This method should initialize radius with the parameter passed\n",
        "    \n",
        "cal_area(): This method should calculate and print the radius of the Circle\n",
        "    \n",
        "cal_circumference(): This method should calculate and print the circumference of the Circle\n",
        "    \n",
        "Finally , in the main script , create a Circle object , initialize radius with \n",
        "Write a program to create a class called Circle , having an instance member called radius. Provide following instance methods in your class: init_() : This method should initialize radius with the parameter passed\n",
        "\n",
        "cal_area(): This method should calculate and print the radius of the Circle\n",
        "\n",
        "cal_circumference(): This method should calculate and print the circumference of the Circle\n",
        "\n",
        "Finally , in the main script , create a Circle object , initialize radius with user input and calculate and display it’s area and circumference"
      ],
      "metadata": {
        "id": "lJOBxlKhyflQ"
      }
    },
    {
      "cell_type": "code",
      "source": [
        "class Circle:\n",
        "  pi = 3.14\n",
        "  def __init__(self,r):\n",
        "    self.radius = r\n",
        "  def cal_area(self):\n",
        "    self.area = Circle.pi * self.radius * self.radius\n",
        "  def cal_circumference(self):\n",
        "    self.circum = 2 * Circle.pi * self.radius\n",
        "  def show(self):\n",
        "    print(f\"area {self.area}\")\n",
        "    print(f\"cir {self.circum}\")\n",
        "    \n"
      ],
      "metadata": {
        "id": "knTgKrrFyjJk"
      },
      "execution_count": 33,
      "outputs": []
    },
    {
      "cell_type": "code",
      "source": [],
      "metadata": {
        "id": "q_nEiiyV7tI2"
      },
      "execution_count": null,
      "outputs": []
    },
    {
      "cell_type": "code",
      "source": [
        "r = int(input(\"please enter r value\"))"
      ],
      "metadata": {
        "colab": {
          "base_uri": "https://localhost:8080/"
        },
        "id": "5xy8yHIm0zYj",
        "outputId": "3a10d90b-f46e-4c26-a6ac-cc764cf8eda7"
      },
      "execution_count": 27,
      "outputs": [
        {
          "name": "stdout",
          "output_type": "stream",
          "text": [
            "please enter r value8\n"
          ]
        }
      ]
    },
    {
      "cell_type": "code",
      "execution_count": 28,
      "metadata": {
        "id": "8IU41dwZyUbb"
      },
      "outputs": [],
      "source": [
        "obj = Circle(r)"
      ]
    },
    {
      "cell_type": "code",
      "source": [
        "obj.cal_area()"
      ],
      "metadata": {
        "id": "djA6i2ev1d6n"
      },
      "execution_count": 29,
      "outputs": []
    },
    {
      "cell_type": "code",
      "source": [
        "obj.cal_circumference()"
      ],
      "metadata": {
        "id": "qRiR7Yg01qpg"
      },
      "execution_count": 30,
      "outputs": []
    },
    {
      "cell_type": "code",
      "source": [
        "obj.show()"
      ],
      "metadata": {
        "colab": {
          "base_uri": "https://localhost:8080/"
        },
        "id": "GH40VpNR1t-h",
        "outputId": "0b68ed7d-17b5-46e2-d68d-b1a5fc2854b2"
      },
      "execution_count": 31,
      "outputs": [
        {
          "output_type": "stream",
          "name": "stdout",
          "text": [
            "area 200.96\n",
            "cir 50.24\n"
          ]
        }
      ]
    },
    {
      "cell_type": "markdown",
      "source": [
        "\n",
        "Write a program to create a class called Emp , having an instance members called name , age and sal . Also declare a class variable called raise_amount to store the increment percentage of sal and set it the value given by the user\n",
        "\n",
        "Now provide following methods in your class\n",
        "__init___() : This method should initialize instance members  with the parameter passed\n",
        "\n",
        "increase_sal(): This method should calculate the increment in sal and add it to the instance member sal\n",
        "\n",
        "Write a program to create a class called Emp , having an instance members called name , age and sal . Also declare a class variable called raise_amount to store the increment percentage of sal and set it the value given by the user\n",
        "\n",
        "Now provide following methods in your class init_() : This method should initialize instance members with the parameter passed\n",
        "\n",
        "increase_sal(): This method should calculate the increment in sal and add it to the instance member sal\n",
        "\n",
        "display(): This method should display name , age and sal of the employee\n",
        "\n",
        "Finally , in the main script , create 2 Emp objects , initialize them and increase their salary . Finally display the data"
      ],
      "metadata": {
        "id": "1j_d88YB-_9R"
      }
    },
    {
      "cell_type": "code",
      "source": [
        "class Emp:\n",
        "  raise_amount = float(input(\"enter percentage increase from 0 to 1\"))\n",
        "  def __init__(self,n,a,s):\n",
        "    self.name = n\n",
        "    self.age = a\n",
        "    self.sal = s\n",
        "  def increase_sal(self):\n",
        "    self.sal = self.sal + (Emp.raise_amount * self.sal)\n",
        "  def display(self):\n",
        "    print(f\"age{self.age},sal{self.sal},name{self.name}\")"
      ],
      "metadata": {
        "colab": {
          "base_uri": "https://localhost:8080/"
        },
        "id": "_oW5mJve-4Un",
        "outputId": "20e6827c-8b75-45f3-f84e-2159616f063d"
      },
      "execution_count": 52,
      "outputs": [
        {
          "name": "stdout",
          "output_type": "stream",
          "text": [
            "enter percentage increase from 0 to 10.5\n"
          ]
        }
      ]
    },
    {
      "cell_type": "code",
      "source": [
        "o1 = Emp('adam',28,1000)\n",
        "\n",
        "\n",
        "o1.increase_sal()\n",
        "\n",
        "o1.display()\n"
      ],
      "metadata": {
        "colab": {
          "base_uri": "https://localhost:8080/"
        },
        "id": "kcxVYG7mBQWX",
        "outputId": "019c8b2d-ecdc-4329-9a49-b9a83eed2cd1"
      },
      "execution_count": 53,
      "outputs": [
        {
          "output_type": "stream",
          "name": "stdout",
          "text": [
            "age28,sal1500.0,nameadam\n"
          ]
        }
      ]
    }
  ]
}