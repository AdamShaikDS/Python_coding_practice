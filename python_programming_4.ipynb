{
  "nbformat": 4,
  "nbformat_minor": 0,
  "metadata": {
    "colab": {
      "provenance": []
    },
    "kernelspec": {
      "name": "python3",
      "display_name": "Python 3"
    },
    "language_info": {
      "name": "python"
    }
  },
  "cells": [
    {
      "cell_type": "code",
      "execution_count": null,
      "metadata": {
        "id": "4tB2IsF_1xzi"
      },
      "outputs": [],
      "source": [
        "1. Write a Python Program to Find the Factorial of a Number?\n",
        "2. Write a Python Program to Display the multiplication Table?\n",
        "3. Write a Python Program to Print the Fibonacci sequence?\n",
        "4. Write a Python Program to Check Armstrong Number?\n",
        "5. Write a Python Program to Find Armstrong Number in an Interval?\n",
        "6. Write a Python Program to Find the Sum of Natural Numbers?"
      ]
    },
    {
      "cell_type": "markdown",
      "source": [
        "1. Write a Python Program to Find the Factorial of a Number?"
      ],
      "metadata": {
        "id": "fVtxQaCm11A1"
      }
    },
    {
      "cell_type": "code",
      "source": [
        "num = int(input(\"please enter a number\"))\n",
        "factorial = 1\n",
        "for i in range(1,num+1,1):\n",
        "  #print(i)\n",
        "  factorial = factorial * i\n",
        "print(factorial)\n"
      ],
      "metadata": {
        "colab": {
          "base_uri": "https://localhost:8080/"
        },
        "id": "Sob_HFDH12Xn",
        "outputId": "b5c212ed-43e5-4062-b514-f829a585ee5e"
      },
      "execution_count": null,
      "outputs": [
        {
          "output_type": "stream",
          "name": "stdout",
          "text": [
            "please enter a number5\n",
            "120\n"
          ]
        }
      ]
    },
    {
      "cell_type": "markdown",
      "source": [
        "Write a Python Program to Display the multiplication Table?"
      ],
      "metadata": {
        "id": "LMI6Z6GF4H5g"
      }
    },
    {
      "cell_type": "code",
      "source": [
        "x = int(input(\"please enter the table\"))\n",
        "for i in range(1,11):\n",
        "  #print(i)\n",
        "  # print(i)\n",
        "  print(f\"{x} * {i} = {x*i}\")"
      ],
      "metadata": {
        "colab": {
          "base_uri": "https://localhost:8080/"
        },
        "id": "NdELEY0M4I2L",
        "outputId": "0bf0352a-1e5a-4e72-95e3-a079362c5e32"
      },
      "execution_count": null,
      "outputs": [
        {
          "output_type": "stream",
          "name": "stdout",
          "text": [
            "please enter the table5\n",
            "5 * 1 = 5\n",
            "5 * 2 = 10\n",
            "5 * 3 = 15\n",
            "5 * 4 = 20\n",
            "5 * 5 = 25\n",
            "5 * 6 = 30\n",
            "5 * 7 = 35\n",
            "5 * 8 = 40\n",
            "5 * 9 = 45\n",
            "5 * 10 = 50\n"
          ]
        }
      ]
    },
    {
      "cell_type": "markdown",
      "source": [
        "Write a Python Program to Print the Fibonacci sequence?"
      ],
      "metadata": {
        "id": "7hq8Pt925b2h"
      }
    },
    {
      "cell_type": "code",
      "source": [],
      "metadata": {
        "id": "52VghQ5s5dzy"
      },
      "execution_count": null,
      "outputs": []
    },
    {
      "cell_type": "markdown",
      "source": [
        "Write a Python Program to Check Armstrong Number?"
      ],
      "metadata": {
        "id": "_WluVGnChI3c"
      }
    },
    {
      "cell_type": "code",
      "source": [
        "amstron = int(input(\"enter a number\"))"
      ],
      "metadata": {
        "id": "e0sT2ptThKA-",
        "colab": {
          "base_uri": "https://localhost:8080/"
        },
        "outputId": "8d081e4e-58cc-4e84-c7ed-5733192f6923"
      },
      "execution_count": 11,
      "outputs": [
        {
          "name": "stdout",
          "output_type": "stream",
          "text": [
            "enter a number153\n"
          ]
        }
      ]
    },
    {
      "cell_type": "code",
      "source": [
        "length = len(str(amstron))"
      ],
      "metadata": {
        "id": "DhPIAzILtT3X"
      },
      "execution_count": 29,
      "outputs": []
    },
    {
      "cell_type": "code",
      "source": [
        "if (length==3):\n",
        "    d1 = amstron % 10\n",
        "    #print(d1)\n",
        "    n = amstron // 10\n",
        "\n",
        "    d2 = n% 10\n",
        "    #print(d2)\n",
        "    n = n // 10\n",
        "    #print(n)\n",
        "    sumcube = d1*d1*d1 + d2*d2*d2 + n*n*n\n",
        "\n",
        "    if(amstron == sumcube):\n",
        "      print(\"amstrong number\")\n",
        "elif (length==2):\n",
        "    print(\"no amstrong numbers are there in 2 digit numbers\")\n",
        "elif (length==1):\n",
        "    print(\"amstrong number\")\n"
      ],
      "metadata": {
        "colab": {
          "base_uri": "https://localhost:8080/"
        },
        "id": "jJK82G0HoTUt",
        "outputId": "996c1cea-e33a-4de8-e868-73f6fccfbde6"
      },
      "execution_count": 30,
      "outputs": [
        {
          "output_type": "stream",
          "name": "stdout",
          "text": [
            "3\n",
            "5\n",
            "1\n",
            "amstrong number\n"
          ]
        }
      ]
    },
    {
      "cell_type": "markdown",
      "source": [
        "Write a Python Program to Find Armstrong Number in an Interval"
      ],
      "metadata": {
        "id": "WL7mvh2GvEU0"
      }
    },
    {
      "cell_type": "code",
      "source": [
        "lower = 100\n",
        "upper = 2000\n",
        "\n",
        "for num in range(lower, upper + 1):\n",
        "\n",
        "   # order of number\n",
        "   order = len(str(num))\n",
        "    \n",
        "   # initialize sum\n",
        "   sum = 0\n",
        "\n",
        "   temp = num\n",
        "   while temp > 0:\n",
        "       digit = temp % 10\n",
        "       sum += digit ** order\n",
        "       temp //= 10\n",
        "\n",
        "   if num == sum:\n",
        "       print(num)"
      ],
      "metadata": {
        "colab": {
          "base_uri": "https://localhost:8080/"
        },
        "id": "sfmhwL1cvFJW",
        "outputId": "d63e1ea1-3d7d-44d2-f612-2ec4efd92202"
      },
      "execution_count": 31,
      "outputs": [
        {
          "output_type": "stream",
          "name": "stdout",
          "text": [
            "153\n",
            "370\n",
            "371\n",
            "407\n",
            "1634\n"
          ]
        }
      ]
    },
    {
      "cell_type": "markdown",
      "source": [
        " Write a Python Program to Find the Sum of Natural Numbers?"
      ],
      "metadata": {
        "id": "9EtJQkIkvb51"
      }
    },
    {
      "cell_type": "markdown",
      "source": [],
      "metadata": {
        "id": "LWYVpdifvVkj"
      }
    },
    {
      "cell_type": "code",
      "source": [
        "sum = 0\n",
        "for j in range(1,101):\n",
        "    sum = sum + j\n",
        "\n",
        "print(sum)\n",
        "\n"
      ],
      "metadata": {
        "id": "W2DGdjezh-DU",
        "colab": {
          "base_uri": "https://localhost:8080/"
        },
        "outputId": "cdfcc451-04da-475e-da34-9e34dee063db"
      },
      "execution_count": 37,
      "outputs": [
        {
          "output_type": "stream",
          "name": "stdout",
          "text": [
            "5050\n"
          ]
        }
      ]
    }
  ]
}