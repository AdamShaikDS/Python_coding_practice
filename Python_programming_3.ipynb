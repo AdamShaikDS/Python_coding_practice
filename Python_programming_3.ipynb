{
  "nbformat": 4,
  "nbformat_minor": 0,
  "metadata": {
    "colab": {
      "provenance": []
    },
    "kernelspec": {
      "name": "python3",
      "display_name": "Python 3"
    },
    "language_info": {
      "name": "python"
    }
  },
  "cells": [
    {
      "cell_type": "code",
      "execution_count": 6,
      "metadata": {
        "id": "xsOA_CIotTxh"
      },
      "outputs": [],
      "source": [
        "# Write a Python Program to Check if a Number is Positive, Negative or Zero?\n",
        "# 2. Write a Python Program to Check if a Number is Odd or Even?\n",
        "# 3. Write a Python Program to Check Leap Year?\n",
        "# 4. Write a Python Program to Check Prime Number?\n",
        "# 5. Write a Python Program to Print all Prime Numbers in an Interval of 1-10000?"
      ]
    },
    {
      "cell_type": "markdown",
      "source": [
        "# Write a Python Program to Check if a Number is Positive, Negative or Zero?"
      ],
      "metadata": {
        "id": "kOfBgz2WtvMI"
      }
    },
    {
      "cell_type": "code",
      "source": [
        "a = int(input(\"enter a number\"))"
      ],
      "metadata": {
        "colab": {
          "base_uri": "https://localhost:8080/"
        },
        "id": "bJWHO8Wptwbh",
        "outputId": "2588e9d5-8841-494b-f4ea-978436fe5412"
      },
      "execution_count": 7,
      "outputs": [
        {
          "name": "stdout",
          "output_type": "stream",
          "text": [
            "enter a number10\n"
          ]
        }
      ]
    },
    {
      "cell_type": "code",
      "source": [
        "if a>0:\n",
        "  print(\"positive number\")\n",
        "elif a == 0:\n",
        "  print(\"number is zero\")\n",
        "else:\n",
        "  print(\"nymber is negitive\")\n"
      ],
      "metadata": {
        "colab": {
          "base_uri": "https://localhost:8080/"
        },
        "id": "crmta4xst4XT",
        "outputId": "47f6e7ee-49f2-4004-ff86-ae52ab71fa98"
      },
      "execution_count": 8,
      "outputs": [
        {
          "output_type": "stream",
          "name": "stdout",
          "text": [
            "positive number\n"
          ]
        }
      ]
    },
    {
      "cell_type": "markdown",
      "source": [
        "2. Write a Python Program to Check if a Number is Odd or Even?"
      ],
      "metadata": {
        "id": "JZOsrboVuU-0"
      }
    },
    {
      "cell_type": "code",
      "source": [
        "num = int(input(\"enter a number\"))"
      ],
      "metadata": {
        "colab": {
          "base_uri": "https://localhost:8080/"
        },
        "id": "nQXVAnvVuV-r",
        "outputId": "072430d1-2180-43c1-a5af-c84ccd3b1d54"
      },
      "execution_count": 9,
      "outputs": [
        {
          "name": "stdout",
          "output_type": "stream",
          "text": [
            "enter a number20\n"
          ]
        }
      ]
    },
    {
      "cell_type": "code",
      "source": [
        "if(num>= 2 and num%2 == 0 ):\n",
        "  print(\"nymber is even\")\n",
        "elif num == 0:\n",
        "  print(\"number is nether even or odd\")\n",
        "else:\n",
        "  print(\"number is odd\")"
      ],
      "metadata": {
        "colab": {
          "base_uri": "https://localhost:8080/"
        },
        "id": "hR8f1sVdubwS",
        "outputId": "bff51eda-4b37-4b63-f64b-8c83cbba226d"
      },
      "execution_count": 10,
      "outputs": [
        {
          "output_type": "stream",
          "name": "stdout",
          "text": [
            "nymber is even\n"
          ]
        }
      ]
    },
    {
      "cell_type": "markdown",
      "source": [
        "Write a Python Program to Check Prime Number?"
      ],
      "metadata": {
        "id": "Vobip4aEu41c"
      }
    },
    {
      "cell_type": "code",
      "source": [],
      "metadata": {
        "id": "gla7IGlxyg-d"
      },
      "execution_count": 10,
      "outputs": []
    },
    {
      "cell_type": "code",
      "source": [
        "n = int(input(\"please enter a number\"))"
      ],
      "metadata": {
        "colab": {
          "base_uri": "https://localhost:8080/"
        },
        "id": "QNwy0HDByWbg",
        "outputId": "6b8c9e8c-f30d-4f44-cd2e-019a54cfb9dc"
      },
      "execution_count": 11,
      "outputs": [
        {
          "name": "stdout",
          "output_type": "stream",
          "text": [
            "please enter a number11\n"
          ]
        }
      ]
    },
    {
      "cell_type": "code",
      "source": [
        "if n > 1:\n",
        "\n",
        "  for  i in range(2,int(n/2)+1):\n",
        "    if(n%2 == 0):\n",
        "      print(\"n is not a prime number\")\n",
        "      break;\n",
        "    else:\n",
        "      print(\"n is a prime numbe\")\n",
        "\n",
        "\n",
        "\n",
        "else:\n",
        "  print(\"not a prime numbe\")"
      ],
      "metadata": {
        "colab": {
          "base_uri": "https://localhost:8080/"
        },
        "id": "MYd9vM0jxsU_",
        "outputId": "53fbc10b-bbbf-4409-9533-d80a8c4188d5"
      },
      "execution_count": 12,
      "outputs": [
        {
          "output_type": "stream",
          "name": "stdout",
          "text": [
            "n is a prime numbe\n",
            "n is a prime numbe\n",
            "n is a prime numbe\n",
            "n is a prime numbe\n"
          ]
        }
      ]
    },
    {
      "cell_type": "markdown",
      "source": [],
      "metadata": {
        "id": "9KNURQgxzH9u"
      }
    },
    {
      "cell_type": "markdown",
      "source": [
        " Write a Python Program to Print all Prime Numbers in an Interval of 1-10000?"
      ],
      "metadata": {
        "id": "YBqH7zH_zNNH"
      }
    },
    {
      "cell_type": "code",
      "source": [
        "for j in range(1,1000\n",
        "               ):\n",
        "  \n",
        "  flag = True\n",
        "  if j < 2:\n",
        "    flag = True\n",
        "\n",
        "\n",
        "  for  i in range(2,int(j/2)+1):\n",
        "      if(j%i == 0):\n",
        "        flag = False\n",
        "      #print(\"n is not a prime number\")\n",
        "\n",
        "\n",
        "  if flag == True:\n",
        "    print(j)\n",
        "\n",
        "\n"
      ],
      "metadata": {
        "colab": {
          "base_uri": "https://localhost:8080/"
        },
        "id": "GWJ6k1S9zORT",
        "outputId": "ca38b170-bdb5-4e52-e39b-90347ef5e0dd"
      },
      "execution_count": 13,
      "outputs": [
        {
          "output_type": "stream",
          "name": "stdout",
          "text": [
            "1\n",
            "2\n",
            "3\n",
            "5\n",
            "7\n",
            "11\n",
            "13\n",
            "17\n",
            "19\n",
            "23\n",
            "29\n",
            "31\n",
            "37\n",
            "41\n",
            "43\n",
            "47\n",
            "53\n",
            "59\n",
            "61\n",
            "67\n",
            "71\n",
            "73\n",
            "79\n",
            "83\n",
            "89\n",
            "97\n",
            "101\n",
            "103\n",
            "107\n",
            "109\n",
            "113\n",
            "127\n",
            "131\n",
            "137\n",
            "139\n",
            "149\n",
            "151\n",
            "157\n",
            "163\n",
            "167\n",
            "173\n",
            "179\n",
            "181\n",
            "191\n",
            "193\n",
            "197\n",
            "199\n",
            "211\n",
            "223\n",
            "227\n",
            "229\n",
            "233\n",
            "239\n",
            "241\n",
            "251\n",
            "257\n",
            "263\n",
            "269\n",
            "271\n",
            "277\n",
            "281\n",
            "283\n",
            "293\n",
            "307\n",
            "311\n",
            "313\n",
            "317\n",
            "331\n",
            "337\n",
            "347\n",
            "349\n",
            "353\n",
            "359\n",
            "367\n",
            "373\n",
            "379\n",
            "383\n",
            "389\n",
            "397\n",
            "401\n",
            "409\n",
            "419\n",
            "421\n",
            "431\n",
            "433\n",
            "439\n",
            "443\n",
            "449\n",
            "457\n",
            "461\n",
            "463\n",
            "467\n",
            "479\n",
            "487\n",
            "491\n",
            "499\n",
            "503\n",
            "509\n",
            "521\n",
            "523\n",
            "541\n",
            "547\n",
            "557\n",
            "563\n",
            "569\n",
            "571\n",
            "577\n",
            "587\n",
            "593\n",
            "599\n",
            "601\n",
            "607\n",
            "613\n",
            "617\n",
            "619\n",
            "631\n",
            "641\n",
            "643\n",
            "647\n",
            "653\n",
            "659\n",
            "661\n",
            "673\n",
            "677\n",
            "683\n",
            "691\n",
            "701\n",
            "709\n",
            "719\n",
            "727\n",
            "733\n",
            "739\n",
            "743\n",
            "751\n",
            "757\n",
            "761\n",
            "769\n",
            "773\n",
            "787\n",
            "797\n",
            "809\n",
            "811\n",
            "821\n",
            "823\n",
            "827\n",
            "829\n",
            "839\n",
            "853\n",
            "857\n",
            "859\n",
            "863\n",
            "877\n",
            "881\n",
            "883\n",
            "887\n",
            "907\n",
            "911\n",
            "919\n",
            "929\n",
            "937\n",
            "941\n",
            "947\n",
            "953\n",
            "967\n",
            "971\n",
            "977\n",
            "983\n",
            "991\n",
            "997\n"
          ]
        }
      ]
    }
  ]
}