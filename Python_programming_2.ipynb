{
  "nbformat": 4,
  "nbformat_minor": 0,
  "metadata": {
    "colab": {
      "provenance": []
    },
    "kernelspec": {
      "name": "python3",
      "display_name": "Python 3"
    },
    "language_info": {
      "name": "python"
    }
  },
  "cells": [
    {
      "cell_type": "code",
      "execution_count": 29,
      "metadata": {
        "id": "z9Np2pgYl4ZO"
      },
      "outputs": [],
      "source": [
        "# 1. Write a Python program to convert kilometers to miles?\n",
        "# 2. Write a Python program to convert Celsius to Fahrenheit?\n",
        "# 3. Write a Python program to display calendar?\n",
        "# 4. Write a Python program to solve quadratic equation?\n",
        "# 5. Write a Python program to swap two variables without temp variable?"
      ]
    },
    {
      "cell_type": "markdown",
      "source": [
        "# 1. Write a Python program to convert kilometers to miles?"
      ],
      "metadata": {
        "id": "SemDjUiOr4E7"
      }
    },
    {
      "cell_type": "code",
      "source": [
        "def kmtomile(km):\n",
        "  mile = km * 0.62137\n",
        "  return mile"
      ],
      "metadata": {
        "id": "Y-ecncl2l5jw"
      },
      "execution_count": 30,
      "outputs": []
    },
    {
      "cell_type": "code",
      "source": [
        "mile =  kmtomile(10)"
      ],
      "metadata": {
        "id": "bNCicjNpmnMv"
      },
      "execution_count": 31,
      "outputs": []
    },
    {
      "cell_type": "code",
      "source": [
        "print(mile)"
      ],
      "metadata": {
        "colab": {
          "base_uri": "https://localhost:8080/"
        },
        "id": "zp-qikWSmusB",
        "outputId": "6eddef98-3f9b-4b33-a5e9-beee589642a5"
      },
      "execution_count": 32,
      "outputs": [
        {
          "output_type": "stream",
          "name": "stdout",
          "text": [
            "6.213699999999999\n"
          ]
        }
      ]
    },
    {
      "cell_type": "markdown",
      "source": [
        "2. Write a Python program to convert Celsius to Fahrenheit?\n"
      ],
      "metadata": {
        "id": "VTDgk-KUr_Gq"
      }
    },
    {
      "cell_type": "code",
      "source": [
        "import calendar"
      ],
      "metadata": {
        "id": "zJA0Zu5Rn26P"
      },
      "execution_count": 33,
      "outputs": []
    },
    {
      "cell_type": "code",
      "source": [
        "def displaycalender(year,month):\n",
        "  print(calendar.month(year,month))"
      ],
      "metadata": {
        "id": "EjJVZKXFnG-E"
      },
      "execution_count": 34,
      "outputs": []
    },
    {
      "cell_type": "code",
      "source": [
        "year = int(input(\"please enter year\"))"
      ],
      "metadata": {
        "colab": {
          "base_uri": "https://localhost:8080/"
        },
        "id": "mO0GRAbEnOR0",
        "outputId": "1a83b9ee-9913-479a-fc0e-fe0eb76e862d"
      },
      "execution_count": 35,
      "outputs": [
        {
          "name": "stdout",
          "output_type": "stream",
          "text": [
            "please enter year95\n"
          ]
        }
      ]
    },
    {
      "cell_type": "code",
      "source": [
        "month = int(input(\"please enter month from 01 to 12\"))"
      ],
      "metadata": {
        "colab": {
          "base_uri": "https://localhost:8080/"
        },
        "id": "mGlesOcQngNj",
        "outputId": "a672aa15-6c43-40f3-8647-c178a07eacb1"
      },
      "execution_count": 36,
      "outputs": [
        {
          "name": "stdout",
          "output_type": "stream",
          "text": [
            "please enter month from 01 to 1201\n"
          ]
        }
      ]
    },
    {
      "cell_type": "code",
      "source": [
        "\n",
        "displaycalender(year,month)"
      ],
      "metadata": {
        "colab": {
          "base_uri": "https://localhost:8080/"
        },
        "id": "jAZH6ZRqnsrG",
        "outputId": "37fdef3f-171f-4ed9-bed4-a371fe57e3a5"
      },
      "execution_count": 37,
      "outputs": [
        {
          "output_type": "stream",
          "name": "stdout",
          "text": [
            "     January 95\n",
            "Mo Tu We Th Fr Sa Su\n",
            "                1  2\n",
            " 3  4  5  6  7  8  9\n",
            "10 11 12 13 14 15 16\n",
            "17 18 19 20 21 22 23\n",
            "24 25 26 27 28 29 30\n",
            "31\n",
            "\n"
          ]
        }
      ]
    },
    {
      "cell_type": "code",
      "source": [],
      "metadata": {
        "id": "vZJSTJZ5nV5N"
      },
      "execution_count": 37,
      "outputs": []
    },
    {
      "cell_type": "markdown",
      "source": [
        "Solving quadratic equation ax**2 + b*X + c\n"
      ],
      "metadata": {
        "id": "XbyWB_M0pJ6l"
      }
    },
    {
      "cell_type": "code",
      "source": [
        "import cmath"
      ],
      "metadata": {
        "id": "EDNPIe5cqv8B"
      },
      "execution_count": 38,
      "outputs": []
    },
    {
      "cell_type": "code",
      "source": [
        "a = float(input(\"please enter a value\"))\n",
        "b = float(input(\"please enter b value\"))\n",
        "c = float(input(\"please enter c value\"))"
      ],
      "metadata": {
        "colab": {
          "base_uri": "https://localhost:8080/"
        },
        "id": "mtFGeQk9pc29",
        "outputId": "fd6e8454-5745-4272-8835-17cd66596c0a"
      },
      "execution_count": 39,
      "outputs": [
        {
          "name": "stdout",
          "output_type": "stream",
          "text": [
            "please enter a value1\n",
            "please enter b value5\n",
            "please enter c value6\n"
          ]
        }
      ]
    },
    {
      "cell_type": "code",
      "source": [
        "#we need to calculate discriminent"
      ],
      "metadata": {
        "id": "L7YfgG1up0IM"
      },
      "execution_count": 40,
      "outputs": []
    },
    {
      "cell_type": "markdown",
      "source": [
        "4. Write a Python program to solve quadratic equation?"
      ],
      "metadata": {
        "id": "Mlr4sHFmsElu"
      }
    },
    {
      "cell_type": "code",
      "source": [
        "D = b **2 - 4 *a*c"
      ],
      "metadata": {
        "id": "hoH2PcgapcXK"
      },
      "execution_count": 41,
      "outputs": []
    },
    {
      "cell_type": "code",
      "source": [
        "sol1 = (-b - cmath.sqrt(D))/(2*a)"
      ],
      "metadata": {
        "id": "tiTp-MOwqp9Z"
      },
      "execution_count": 42,
      "outputs": []
    },
    {
      "cell_type": "code",
      "source": [
        "sol2 = (-b + cmath.sqrt(D))/(2*a)"
      ],
      "metadata": {
        "id": "z8ZhUyh2rDSg"
      },
      "execution_count": 43,
      "outputs": []
    },
    {
      "cell_type": "code",
      "source": [
        "print(f\"solutions for Qudratic equations are{sol1}{sol2}\")"
      ],
      "metadata": {
        "colab": {
          "base_uri": "https://localhost:8080/"
        },
        "id": "4tqigTcWrH2r",
        "outputId": "838e4623-52c8-4f48-ddbc-453d6b77e199"
      },
      "execution_count": 44,
      "outputs": [
        {
          "output_type": "stream",
          "name": "stdout",
          "text": [
            "solutions for Qudratic equations are(-3+0j)(-2+0j)\n"
          ]
        }
      ]
    },
    {
      "cell_type": "markdown",
      "source": [
        "# 5. Write a Python program to swap two variables without temp variable?"
      ],
      "metadata": {
        "id": "bl3purwCsTs3"
      }
    },
    {
      "cell_type": "code",
      "source": [
        "def swaptwovariables(a,b):\n",
        "  print(a)\n",
        "  print(b)\n",
        "  a = a + b \n",
        "  b = a-b\n",
        "  a = a - b\n",
        "  print(a)\n",
        "  print(b)\n",
        "  \n",
        "  "
      ],
      "metadata": {
        "id": "2gbb3k8SsVRJ"
      },
      "execution_count": 45,
      "outputs": []
    },
    {
      "cell_type": "code",
      "source": [
        "swaptwovariables(-5,10)"
      ],
      "metadata": {
        "colab": {
          "base_uri": "https://localhost:8080/"
        },
        "id": "hBiWdqYZsbU3",
        "outputId": "f8c9ee47-39ed-4929-a075-fb2145ef9408"
      },
      "execution_count": 46,
      "outputs": [
        {
          "output_type": "stream",
          "name": "stdout",
          "text": [
            "-5\n",
            "10\n",
            "10\n",
            "-5\n"
          ]
        }
      ]
    }
  ]
}