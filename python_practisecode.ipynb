{
  "nbformat": 4,
  "nbformat_minor": 0,
  "metadata": {
    "colab": {
      "provenance": []
    },
    "kernelspec": {
      "name": "python3",
      "display_name": "Python 3"
    },
    "language_info": {
      "name": "python"
    }
  },
  "cells": [
    {
      "cell_type": "code",
      "execution_count": null,
      "metadata": {
        "id": "q0IgmGZDrDMJ"
      },
      "outputs": [],
      "source": [
        "#Write a program to print the following pattern "
      ]
    },
    {
      "cell_type": "code",
      "source": [],
      "metadata": {
        "id": "nE2P5sSlswnV"
      },
      "execution_count": null,
      "outputs": []
    },
    {
      "cell_type": "code",
      "source": [
        "for i in range(4):\n",
        "  for j in range(3):\n",
        "    print(\"*\",end=\"\")\n",
        "  print()\n"
      ],
      "metadata": {
        "colab": {
          "base_uri": "https://localhost:8080/"
        },
        "id": "lXHvw9Nusfmg",
        "outputId": "b2ca967c-6f27-415d-e9ae-e1b3d76c38d2"
      },
      "execution_count": 1,
      "outputs": [
        {
          "output_type": "stream",
          "name": "stdout",
          "text": [
            "***\n",
            "***\n",
            "***\n",
            "***\n"
          ]
        }
      ]
    },
    {
      "cell_type": "code",
      "source": [
        "for i in range(4):\n",
        "  for j in range(4):\n",
        "    if i>=j:\n",
        "      print(\"*\",end=\"\")\n",
        "  print()"
      ],
      "metadata": {
        "colab": {
          "base_uri": "https://localhost:8080/"
        },
        "id": "QeVd4PXatK2Q",
        "outputId": "06f90c74-bdbb-4863-d344-9cb514e0861b"
      },
      "execution_count": 3,
      "outputs": [
        {
          "output_type": "stream",
          "name": "stdout",
          "text": [
            "*\n",
            "**\n",
            "***\n",
            "****\n"
          ]
        }
      ]
    },
    {
      "cell_type": "code",
      "source": [
        "for i in range(4):\n",
        "  for j in range(4):\n",
        "    if i<=j:\n",
        "      print(\"*\",end=\"\")\n",
        "  print()"
      ],
      "metadata": {
        "colab": {
          "base_uri": "https://localhost:8080/"
        },
        "id": "e3Hb7ek0tzjw",
        "outputId": "950bb0fc-1360-4aa2-d2bc-655282aa8fb2"
      },
      "execution_count": 4,
      "outputs": [
        {
          "output_type": "stream",
          "name": "stdout",
          "text": [
            "****\n",
            "***\n",
            "**\n",
            "*\n"
          ]
        }
      ]
    },
    {
      "cell_type": "code",
      "source": [
        "# \tWAP to accept a year from the user and check whether it is a leap year or not.\n",
        "# An year is a leap year if:\n",
        "# It is exactly divisible by 4 and at the same time not\n",
        "# divisible by 100\n",
        "# OR\n",
        "# It is divisible by 400\n",
        "# For example:\n",
        "# 2017 is not a leap year\n",
        "# 2012 is a leap year\n",
        "# 1900 is a not leap year\n",
        "# 2000 is a leap year\n"
      ],
      "metadata": {
        "id": "cjRKBpxat46m"
      },
      "execution_count": null,
      "outputs": []
    },
    {
      "cell_type": "code",
      "source": [
        "year = int(input(\"enter a year\"))\n",
        "if year%4==0 :\n",
        "  if year%400 == 0 or year%100!=0:\n",
        "    print(\"it is a leap year\")\n",
        "  else:\n",
        "    print(\"not a leap year\")\n",
        "else:\n",
        "  print(\"not a leap year\")\n"
      ],
      "metadata": {
        "colab": {
          "base_uri": "https://localhost:8080/"
        },
        "id": "L4lSrzxwuSCX",
        "outputId": "027052aa-7107-4b92-c64f-59ff64222e29"
      },
      "execution_count": 11,
      "outputs": [
        {
          "output_type": "stream",
          "name": "stdout",
          "text": [
            "enter a year2300\n",
            "not a leap year\n"
          ]
        }
      ]
    },
    {
      "cell_type": "code",
      "source": [
        "2400"
      ],
      "metadata": {
        "id": "c_DhtgIKwQq8"
      },
      "execution_count": null,
      "outputs": []
    },
    {
      "cell_type": "code",
      "source": [
        "\n",
        "# ●\tYou have to develop a number guessing game. Following are the steps needed:\n",
        "# ●\tAt first , the program will generate a random integer secretly.\n",
        "\n",
        "# ●\tNow it will ask the user to guess that number .\n",
        "\n",
        "# ●\tIf the user guessed it correctly then the program prints “Congratulations! You guessed it right” .\n",
        "\n",
        "# ●\tBut if the number guessed by the user is larger than the secret number then program should print “Number too large” and , if the number guessed by the user is smaller than the secret number then the program should print “Number too small” \n",
        "\n",
        "# ●\tThis should continue until the user guesses the number correctly or quits .\n",
        "\n",
        "# ●\tIf the user wants to quit in between he will have to type 0 or negative number\n",
        "\n"
      ],
      "metadata": {
        "id": "JAiklYwszkOI"
      },
      "execution_count": null,
      "outputs": []
    },
    {
      "cell_type": "code",
      "source": [
        "import random"
      ],
      "metadata": {
        "id": "O7lgG7fAzoJb"
      },
      "execution_count": 12,
      "outputs": []
    },
    {
      "cell_type": "code",
      "source": [
        "a = random.randint(1,100)\n",
        "print(a)"
      ],
      "metadata": {
        "colab": {
          "base_uri": "https://localhost:8080/"
        },
        "id": "dCuv1DUq0XYs",
        "outputId": "50ed02f7-ee07-4d91-ea81-23cad67392ae"
      },
      "execution_count": 17,
      "outputs": [
        {
          "output_type": "stream",
          "name": "stdout",
          "text": [
            "19\n"
          ]
        }
      ]
    },
    {
      "cell_type": "code",
      "source": [
        "gussnumber = int(input(\"enter a number from 1 to 99\"))"
      ],
      "metadata": {
        "colab": {
          "base_uri": "https://localhost:8080/"
        },
        "id": "urk6Z4Bn0hg2",
        "outputId": "9a799790-0b79-4f50-80ad-e20c068ab994"
      },
      "execution_count": 18,
      "outputs": [
        {
          "name": "stdout",
          "output_type": "stream",
          "text": [
            "enter a number from 1 to 9933\n"
          ]
        }
      ]
    },
    {
      "cell_type": "code",
      "source": [
        "if gussnumber>0:\n",
        "  while(a != gussnumber):\n",
        "    if gussnumber>a:\n",
        "      print(\"guessed number is greater than random number\")\n",
        "    else:\n",
        "      print(\"guessed numberis less than random number\")\n",
        "    print(\"please enter the number again\")\n",
        "    gussnumber = int(input(\"enter a number from 1 to 99\"))\n",
        "  else:\n",
        "   print(\"you have guesses the correct number\")\n",
        "else:\n",
        "  print(\"please enter postive number\")"
      ],
      "metadata": {
        "colab": {
          "base_uri": "https://localhost:8080/"
        },
        "id": "koniUvZ006Lb",
        "outputId": "c894cc81-0704-49c8-acc9-7621fe368a06"
      },
      "execution_count": 20,
      "outputs": [
        {
          "output_type": "stream",
          "name": "stdout",
          "text": [
            "you have guesses the correct number\n"
          ]
        }
      ]
    }
  ]
}