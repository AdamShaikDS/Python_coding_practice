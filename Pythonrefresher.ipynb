{
  "nbformat": 4,
  "nbformat_minor": 0,
  "metadata": {
    "colab": {
      "provenance": []
    },
    "kernelspec": {
      "name": "python3",
      "display_name": "Python 3"
    },
    "language_info": {
      "name": "python"
    }
  },
  "cells": [
    {
      "cell_type": "code",
      "execution_count": null,
      "metadata": {
        "id": "aNhLTKkCh4Zk"
      },
      "outputs": [],
      "source": [
        "# Write a Python program to print &quot;Hello Python&quot;?\n",
        "# 2. Write a Python program to do arithmetical operations addition and division.?\n",
        "# 3. Write a Python program to find the area of a triangle?\n",
        "# 4. Write a Python program to swap two variables?\n",
        "# 5. Write a Python program to generate a random number?"
      ]
    },
    {
      "cell_type": "code",
      "source": [
        "a = 10\n",
        "b = 15\n",
        "print(a+b)\n",
        "print(a/b)"
      ],
      "metadata": {
        "colab": {
          "base_uri": "https://localhost:8080/"
        },
        "id": "uL2VRuERh56n",
        "outputId": "d935903d-7715-429b-94e3-6a0836c6cc4a"
      },
      "execution_count": 1,
      "outputs": [
        {
          "output_type": "stream",
          "name": "stdout",
          "text": [
            "25\n",
            "0.6666666666666666\n"
          ]
        }
      ]
    },
    {
      "cell_type": "code",
      "source": [
        "def area(a,b):\n",
        "  areaoftraingel = 0.5 * a * b\n",
        "  return areaoftraingel;"
      ],
      "metadata": {
        "id": "nik9wZx5iKTH"
      },
      "execution_count": 4,
      "outputs": []
    },
    {
      "cell_type": "code",
      "source": [
        "areareaoftraingela = area(10,15) "
      ],
      "metadata": {
        "id": "GrT8cgNfixV4"
      },
      "execution_count": 5,
      "outputs": []
    },
    {
      "cell_type": "code",
      "source": [
        "print(areareaoftraingela)"
      ],
      "metadata": {
        "colab": {
          "base_uri": "https://localhost:8080/"
        },
        "id": "Nggciem_i8Lp",
        "outputId": "739317be-218a-4ea9-cc48-88e18600aefe"
      },
      "execution_count": 6,
      "outputs": [
        {
          "output_type": "stream",
          "name": "stdout",
          "text": [
            "75.0\n"
          ]
        }
      ]
    },
    {
      "cell_type": "code",
      "source": [],
      "metadata": {
        "id": "T-V7j3BojHQu"
      },
      "execution_count": null,
      "outputs": []
    },
    {
      "cell_type": "code",
      "source": [
        "def swaptwovariables(a,b):\n",
        "  print(a)\n",
        "  print(b)\n",
        "  a = a + b \n",
        "  b = a-b\n",
        "  a = a - b\n",
        "  print(a)\n",
        "  print(b)\n",
        "  \n",
        "  "
      ],
      "metadata": {
        "id": "L2Bl-MQNjEEc"
      },
      "execution_count": 11,
      "outputs": []
    },
    {
      "cell_type": "code",
      "source": [
        "swaptwovariables(-5,10)"
      ],
      "metadata": {
        "colab": {
          "base_uri": "https://localhost:8080/"
        },
        "id": "UgI0tE4xj7UL",
        "outputId": "9ce7e0ed-f7fd-4099-c80e-892f843ff9ee"
      },
      "execution_count": 13,
      "outputs": [
        {
          "output_type": "stream",
          "name": "stdout",
          "text": [
            "-5\n",
            "10\n",
            "10\n",
            "-5\n"
          ]
        }
      ]
    },
    {
      "cell_type": "code",
      "source": [
        "import random\n",
        "\n",
        "print(random.randint(0,9))"
      ],
      "metadata": {
        "colab": {
          "base_uri": "https://localhost:8080/"
        },
        "id": "doc15GqFkN5i",
        "outputId": "14a0f50c-366d-463d-959c-47289b6624b2"
      },
      "execution_count": 14,
      "outputs": [
        {
          "output_type": "stream",
          "name": "stdout",
          "text": [
            "6\n"
          ]
        }
      ]
    }
  ]
}